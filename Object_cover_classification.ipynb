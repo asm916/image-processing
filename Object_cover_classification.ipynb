{
  "nbformat": 4,
  "nbformat_minor": 0,
  "metadata": {
    "colab": {
      "name": "Object_cover_classification.ipynb",
      "provenance": [],
      "include_colab_link": true
    },
    "kernelspec": {
      "name": "python3",
      "display_name": "Python 3"
    },
    "language_info": {
      "name": "python"
    }
  },
  "cells": [
    {
      "cell_type": "markdown",
      "metadata": {
        "id": "view-in-github",
        "colab_type": "text"
      },
      "source": [
        "<a href=\"https://colab.research.google.com/github/asm916/image-processing/blob/main/Object_cover_classification.ipynb\" target=\"_parent\"><img src=\"https://colab.research.google.com/assets/colab-badge.svg\" alt=\"Open In Colab\"/></a>"
      ]
    },
    {
      "cell_type": "code",
      "metadata": {
        "colab": {
          "base_uri": "https://localhost:8080/"
        },
        "id": "1lLp9VyJP_PG",
        "outputId": "28cd122e-365f-4ba5-d918-6e19d2b5fab3"
      },
      "source": [
        "pip install geopandas"
      ],
      "execution_count": 2,
      "outputs": [
        {
          "output_type": "stream",
          "name": "stdout",
          "text": [
            "Requirement already satisfied: geopandas in /usr/local/lib/python3.7/dist-packages (0.10.2)\n",
            "Requirement already satisfied: pyproj>=2.2.0 in /usr/local/lib/python3.7/dist-packages (from geopandas) (3.2.1)\n",
            "Requirement already satisfied: pandas>=0.25.0 in /usr/local/lib/python3.7/dist-packages (from geopandas) (1.1.5)\n",
            "Requirement already satisfied: fiona>=1.8 in /usr/local/lib/python3.7/dist-packages (from geopandas) (1.8.20)\n",
            "Requirement already satisfied: shapely>=1.6 in /usr/local/lib/python3.7/dist-packages (from geopandas) (1.8.0)\n",
            "Requirement already satisfied: click>=4.0 in /usr/local/lib/python3.7/dist-packages (from fiona>=1.8->geopandas) (7.1.2)\n",
            "Requirement already satisfied: setuptools in /usr/local/lib/python3.7/dist-packages (from fiona>=1.8->geopandas) (57.4.0)\n",
            "Requirement already satisfied: munch in /usr/local/lib/python3.7/dist-packages (from fiona>=1.8->geopandas) (2.5.0)\n",
            "Requirement already satisfied: certifi in /usr/local/lib/python3.7/dist-packages (from fiona>=1.8->geopandas) (2021.10.8)\n",
            "Requirement already satisfied: six>=1.7 in /usr/local/lib/python3.7/dist-packages (from fiona>=1.8->geopandas) (1.15.0)\n",
            "Requirement already satisfied: attrs>=17 in /usr/local/lib/python3.7/dist-packages (from fiona>=1.8->geopandas) (21.2.0)\n",
            "Requirement already satisfied: cligj>=0.5 in /usr/local/lib/python3.7/dist-packages (from fiona>=1.8->geopandas) (0.7.2)\n",
            "Requirement already satisfied: click-plugins>=1.0 in /usr/local/lib/python3.7/dist-packages (from fiona>=1.8->geopandas) (1.1.1)\n",
            "Requirement already satisfied: pytz>=2017.2 in /usr/local/lib/python3.7/dist-packages (from pandas>=0.25.0->geopandas) (2018.9)\n",
            "Requirement already satisfied: numpy>=1.15.4 in /usr/local/lib/python3.7/dist-packages (from pandas>=0.25.0->geopandas) (1.19.5)\n",
            "Requirement already satisfied: python-dateutil>=2.7.3 in /usr/local/lib/python3.7/dist-packages (from pandas>=0.25.0->geopandas) (2.8.2)\n"
          ]
        }
      ]
    },
    {
      "cell_type": "code",
      "metadata": {
        "colab": {
          "base_uri": "https://localhost:8080/"
        },
        "id": "EVs7d-lIQfC9",
        "outputId": "4826959a-d6c1-4b87-d29c-9af5e8121ade"
      },
      "source": [
        "pip install gdal"
      ],
      "execution_count": 3,
      "outputs": [
        {
          "output_type": "stream",
          "name": "stdout",
          "text": [
            "Requirement already satisfied: gdal in /usr/local/lib/python3.7/dist-packages (2.2.2)\n"
          ]
        }
      ]
    },
    {
      "cell_type": "code",
      "metadata": {
        "colab": {
          "base_uri": "https://localhost:8080/"
        },
        "id": "CMtnVeZwP3Fy",
        "outputId": "1cfd897b-5c36-4d93-c53e-1953726a95b4"
      },
      "source": [
        "import numpy as np\n",
        "import gdal\n",
        "import ogr\n",
        "from skimage import exposure\n",
        "from skimage.segmentation import quickshift\n",
        "from skimage.segmentation import slic\n",
        "import geopandas as gpd\n",
        "import numpy as np\n",
        "import time\n",
        " \n",
        "naip_fn = '/image.tif'\n",
        " \n",
        "driverTiff = gdal.GetDriverByName('GTiff')\n",
        "print(\"driverTiff\", driverTiff)\n",
        "\n",
        "naip_ds = gdal.Open(naip_fn)\n",
        "\n",
        "nbands = naip_ds.RasterCount\n",
        "band_data = []\n",
        "\n",
        "for i in range(1, nbands+1):\n",
        "    band = naip_ds.GetRasterBand(i).ReadAsArray()\n",
        "    band_data.append(band)\n",
        "band_data = np.dstack(band_data)\n",
        "img = exposure.rescale_intensity(band_data)\n",
        "\n",
        "# do segmentation, different options with quickshift and slic (only use one of the next two lines)\n",
        "segments = slic(img, n_segments=500000, compactness=0.1)\n",
        "print(segments)\n",
        "#print('segments complete', time.time() - seg_start)\n",
        " \n",
        "# save segments to raster\n",
        "segments_fn = '/slic_segmentation.tif'\n",
        "print(\"------------------------------------\")\n",
        "print(\"RasterXSize:\", naip_ds.RasterXSize)\n",
        "print(\"RasterYSize:\", naip_ds.RasterYSize)\n",
        "print(\"gdal.GDT_Float32\", gdal.GDT_Float32)\n",
        "print(\"------------------------------------\")\n",
        "segments_ds = driverTiff.Create(segments_fn, naip_ds.RasterXSize, naip_ds.RasterYSize,\n",
        "                                1, gdal.GDT_Float32)\n",
        "print(\"segments_ds\", segments_ds)\n",
        "segments_ds.SetGeoTransform(naip_ds.GetGeoTransform())\n",
        "segments_ds.SetProjection(naip_ds.GetProjectionRef())\n",
        "segments_ds.GetRasterBand(1).WriteArray(segments)\n",
        "segments_ds = None"
      ],
      "execution_count": 4,
      "outputs": [
        {
          "output_type": "stream",
          "name": "stdout",
          "text": [
            "driverTiff <osgeo.gdal.Driver; proxy of <Swig Object of type 'GDALDriverShadow *' at 0x7f5a7c0bf810> >\n"
          ]
        },
        {
          "output_type": "stream",
          "name": "stderr",
          "text": [
            "/usr/local/lib/python3.7/dist-packages/ipykernel_launcher.py:28: FutureWarning: skimage.measure.label's indexing starts from 0. In future version it will start from 1. To disable this warning, explicitely set the `start_label` parameter to 1.\n"
          ]
        },
        {
          "output_type": "stream",
          "name": "stdout",
          "text": [
            "[[     0      1      2 ...    872    873    874]\n",
            " [   875    876    877 ...   1747   1748   1749]\n",
            " [  1750   1751   1752 ...   2622   2623   2624]\n",
            " ...\n",
            " [454125 454126 454127 ... 454997 454998 454999]\n",
            " [455000 455001 455002 ... 455872 455873 455874]\n",
            " [455875 455876 455877 ... 456747 456748 456749]]\n",
            "------------------------------------\n",
            "RasterXSize: 875\n",
            "RasterYSize: 522\n",
            "gdal.GDT_Float32 6\n",
            "------------------------------------\n",
            "segments_ds <osgeo.gdal.Dataset; proxy of <Swig Object of type 'GDALDatasetShadow *' at 0x7f5a6143ea20> >\n"
          ]
        }
      ]
    },
    {
      "cell_type": "code",
      "metadata": {
        "id": "O70ZxWpRzami"
      },
      "source": [
        "def segment_features(segment_pixels):\n",
        "    features = []\n",
        "    npixels, nbands = segment_pixels.shape\n",
        "    for b in range(nbands):\n",
        "        stats = scipy.stats.describe(segment_pixels[:, b])\n",
        "        band_stats = list(stats.minmax) + list(stats)[2:]\n",
        "        if npixels == 1:\n",
        "            # in this case the variance = nan, change it 0.0\n",
        "            band_stats[3] = 0.0\n",
        "        features += band_stats\n",
        "    return features"
      ],
      "execution_count": 5,
      "outputs": []
    },
    {
      "cell_type": "code",
      "metadata": {
        "colab": {
          "base_uri": "https://localhost:8080/"
        },
        "id": "HB5eAfkW9toP",
        "outputId": "e54f5ae5-70a9-4baa-add0-e789d77d004d"
      },
      "source": [
        "pip install scipy"
      ],
      "execution_count": 7,
      "outputs": [
        {
          "output_type": "stream",
          "name": "stdout",
          "text": [
            "Requirement already satisfied: scipy in /usr/local/lib/python3.7/dist-packages (1.4.1)\n",
            "Requirement already satisfied: numpy>=1.13.3 in /usr/local/lib/python3.7/dist-packages (from scipy) (1.19.5)\n"
          ]
        }
      ]
    },
    {
      "cell_type": "code",
      "metadata": {
        "id": "k-3pxohWzul2"
      },
      "source": [
        "import scipy\n",
        "segment_ids = np.unique(segments)\n",
        "objects = []\n",
        "object_ids = []\n",
        "for id in segment_ids:\n",
        "    segment_pixels = img[segments == id]\n",
        "    object_features = segment_features(segment_pixels)\n",
        "    objects.append(object_features)\n",
        "    object_ids.append(id)"
      ],
      "execution_count": null,
      "outputs": []
    },
    {
      "cell_type": "code",
      "metadata": {
        "id": "VpfCMjLaz9g7"
      },
      "source": [
        "# read shapefile to geopandas geodataframe\n",
        "gdf = gpd.read_file('/truth_data.shp')\n",
        "# get names of land cover classes/labels\n",
        "class_names = gdf['label'].unique()\n",
        "# create a unique id (integer) for each land cover class/label\n",
        "class_ids = np.arange(class_names.size) + 1\n",
        "# create a pandas data frame of the labels and ids and save to csv\n",
        "df = pd.DataFrame({'label': class_names, 'id': class_ids})\n",
        "df.to_csv('C:/temp/naip/class_lookup.csv')\n",
        "# add a new column to geodatafame with the id for each class/label\n",
        "gdf['id'] = gdf['label'].map(dict(zip(class_names, class_ids)))\n",
        " \n",
        "# split the truth data into training and test data sets and save each to a new shapefile\n",
        "gdf_train = gdf.sample(frac=0.7)  # 70% of observations assigned to training data (30% to test data)\n",
        "gdf_test = gdf.drop(gdf_train.index)\n",
        "# save training and test data to shapefiles\n",
        "gdf_train.to_file('path/to/save/train_data.shp')\n",
        "gdf_test.to_file('path/to/save/test_data.shp')\n"
      ],
      "execution_count": null,
      "outputs": []
    },
    {
      "cell_type": "code",
      "metadata": {
        "id": "wS3_yzg1617F"
      },
      "source": [
        "train_fn = '/train_data.shp'\n",
        "train_ds = ogr.Open(train_fn)\n",
        "lyr = train_ds.GetLayer()\n",
        "# create a new raster layer in memory\n",
        "driver = gdal.GetDriverByName('MEM')\n",
        "target_ds = driver.Create('', naip_ds.RasterXSize, naip_ds.RasterYSize, 1, gdal.GDT_UInt16)\n",
        "target_ds.SetGeoTransform(naip_ds.GetGeoTransform())\n",
        "target_ds.SetProjection(naip_ds.GetProjection())\n",
        "# rasterize the training points\n",
        "options = ['ATTRIBUTE=id']\n",
        "gdal.RasterizeLayer(target_ds, [1], lyr, options=options)\n",
        "# retrieve the rasterized data and print basic stats\n",
        "data = target_ds.GetRasterBand(1).ReadAsArray()"
      ],
      "execution_count": null,
      "outputs": []
    },
    {
      "cell_type": "code",
      "metadata": {
        "id": "nvrpf6mI6_mP"
      },
      "source": [
        "# rasterized observation (truth, training and test) data\n",
        "ground_truth = target_ds.GetRasterBand(1).ReadAsArray()\n",
        "\n",
        "# get unique values (0 is the background, or no data, value so it is not included) for each land cover type\n",
        "classes = np.unique(ground_truth)[1:]\n",
        "\n",
        "# for each class (land cover type) record the associated segment IDs\n",
        "segments_per_class = {}\n",
        "for klass in classes:\n",
        "    segments_of_class = segments[ground_truth == klass]\n",
        "    segments_per_class[klass] = set(segments_of_class)\n",
        " \n",
        "# make sure no segment ID represents more than one class\n",
        "intersection = set()\n",
        "accum = set()\n",
        "for class_segments in segments_per_class.values():\n",
        "    intersection |= accum.intersection(class_segments)\n",
        "    accum |= class_segments\n",
        "assert len(intersection) == 0, \"Segment(s) represent multiple classes\""
      ],
      "execution_count": null,
      "outputs": []
    },
    {
      "cell_type": "code",
      "metadata": {
        "id": "2rTWkPcr7GT8"
      },
      "source": [
        "train_img = np.copy(segments)\n",
        "threshold = train_img.max() + 1  # make the threshold value greater than any land cover class value\n",
        "\n",
        "# all pixels in training segments assigned value greater than threshold\n",
        "for klass in classes:\n",
        "    class_label = threshold + klass\n",
        "    for segment_id in segments_per_class[klass]:\n",
        "        train_img[train_img == segment_id] = class_label\n",
        " \n",
        "# training segments receive land cover class value, all other segments 0\n",
        "train_img[train_img <= threshold] = 0\n",
        "train_img[train_img > threshold] -= threshold\n",
        "\n",
        "# create objects and labels for training data\n",
        "training_objects = []\n",
        "training_labels = []\n",
        "for klass in classes:\n",
        "    class_train_object = [v for i, v in enumerate(objects) if segment_ids[i] in segments_per_class[klass]]\n",
        "    training_labels += [klass] * len(class_train_object)\n",
        "    training_objects += class_train_object\n",
        " \n",
        "classifier = RandomForestClassifier(n_jobs=-1)  # setup random forest classifier\n",
        "classifier.fit(training_objects, training_labels)  # fit rf classifier\n",
        "predicted = classifier.predict(objects)  # predict with rf classifier\n",
        "\n",
        "# create numpy array from rf classifiation and save to raster\n",
        "clf = np.copy(segments)\n",
        "for segment_id, klass in zip(segment_ids, predicted):\n",
        "    clf[clf == segment_id] = klass\n",
        " \n",
        "mask = np.sum(img, axis=2)  # this section masks no data values\n",
        "mask[mask > 0.0] = 1.0\n",
        "mask[mask == 0.0] = -1.0\n",
        "clf = np.multiply(clf, mask)\n",
        "clf[clf < 0] = -9999.0\n",
        " \n",
        "clfds = driverTiff.Create('path/to/classified_result.tif', naip_ds.RasterXSize, naip_ds.RasterYSize,\n",
        "                          1, gdal.GDT_Float32)  # this section saves to raster\n",
        "clfds.SetGeoTransform(naip_ds.GetGeoTransform())\n",
        "clfds.SetProjection(naip_ds.GetProjection())\n",
        "clfds.GetRasterBand(1).SetNoDataValue(-9999.0)\n",
        "clfds.GetRasterBand(1).WriteArray(clf)\n",
        "clfds = None\n",
        " \n",
        "print('Done!')"
      ],
      "execution_count": null,
      "outputs": []
    },
    {
      "cell_type": "code",
      "metadata": {
        "id": "Tmtz4ANy7Mw0"
      },
      "source": [
        "import numpy as np\n",
        "import gdal\n",
        "import ogr\n",
        "from sklearn import metrics\n",
        " \n",
        "# read original image to get info for raster dimensions\n",
        "naip_fn = 'path/to/image.tif'\n",
        "driverTiff = gdal.GetDriverByName('GTiff')\n",
        "naip_ds = gdal.Open(naip_fn)\n",
        " \n",
        "# rasterize test data for pixel-to-pixel comparison\n",
        "test_fn = 'path/to/test.shp'\n",
        "test_ds = ogr.Open(test_fn)\n",
        "lyr = test_ds.GetLayer()\n",
        "driver = gdal.GetDriverByName('MEM')\n",
        "target_ds = driver.Create('', naip_ds.RasterXSize, naip_ds.RasterYSize, 1, gdal.GDT_UInt16)\n",
        "target_ds.SetGeoTransform(naip_ds.GetGeoTransform())\n",
        "target_ds.SetProjection(naip_ds.GetProjection())\n",
        "options = ['ATTRIBUTE=id']\n",
        "gdal.RasterizeLayer(target_ds, [1], lyr, options=options)\n",
        " \n",
        "truth = target_ds.GetRasterBand(1).ReadAsArray()  # truth/test data array\n",
        " \n",
        "pred_ds = gdal.Open('path/to/classified_result.tif')  \n",
        "pred = pred_ds.GetRasterBand(1).ReadAsArray()  # predicted data array\n",
        "idx = np.nonzero(truth) # get indices where truth/test has data values\n",
        "cm = metrics.confusion_matrix(truth[idx], pred[idx])  # create a confusion matrix at the truth/test locations\n",
        " \n",
        "# pixel accuracy\n",
        "print(cm)\n",
        "print(cm.diagonal())\n",
        "print(cm.sum(axis=0))\n",
        "accuracy = cm.diagonal() / cm.sum(axis=0)  # overall accuracy\n",
        "print(accuracy)"
      ],
      "execution_count": null,
      "outputs": []
    }
  ]
}